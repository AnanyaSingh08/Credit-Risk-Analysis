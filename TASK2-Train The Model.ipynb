{
 "cells": [
  {
   "cell_type": "markdown",
   "id": "c8e54a78",
   "metadata": {},
   "source": [
    "**Develop the ML model(s) to predict the credit risk(low or high) for a given applicant.** \n",
    "\n",
    "**Business Constraint:** Note that it is worse to state an applicant as a low credit risk when they are actually a high risk, than it is to state an applicant to be a high credit risk when they aren’t.\n",
    "\n",
    "**Provide the answers for the below points:**\n",
    "\n",
    "1. Explain your intuition behind the features used for modeling.\n",
    "2. Are you creating new derived features? If yes explain the intuition behind them.\n",
    "3. Are there missing values? If yes how you plan to handle it.\n",
    "4. How categorical features are handled for modeling.\n",
    "5. Describe the features correlation using correlation matrix. Tell us about few correlated feature & share your understanding on why they are correlated.\n",
    "6. Do you plan to drop the correlated feature? If yes then how.\n",
    "7. Which ML algorithm you plan to use for modeling.\n",
    "8. **Train two (at least) ML models** to predict the credit risk & provide the confusion matrix for each model.\n",
    "9. How you will select the hyperparameters for models trained in above step.\n",
    "10. Which metric(s) you will choose to select between the set of models.\n",
    "11. Explain how you will export the trained models & deploy it for prediction in production."
   ]
  },
  {
   "cell_type": "code",
   "execution_count": 3,
   "id": "c7c7164d",
   "metadata": {},
   "outputs": [],
   "source": [
    "import pandas as pd\n",
    "import numpy as np\n",
    "import matplotlib.pyplot as plt\n",
    "import seaborn as sns\n"
   ]
  },
  {
   "cell_type": "markdown",
   "id": "8a7433d6",
   "metadata": {},
   "source": [
    "#### We will be usins the data that was merged, cleaned and explored in task 1."
   ]
  },
  {
   "cell_type": "code",
   "execution_count": 4,
   "id": "f23e11d4",
   "metadata": {},
   "outputs": [],
   "source": [
    "df= pd.read_csv('df.csv')"
   ]
  },
  {
   "cell_type": "code",
   "execution_count": 5,
   "id": "980ab840",
   "metadata": {},
   "outputs": [
    {
     "data": {
      "text/html": [
       "<div>\n",
       "<style scoped>\n",
       "    .dataframe tbody tr th:only-of-type {\n",
       "        vertical-align: middle;\n",
       "    }\n",
       "\n",
       "    .dataframe tbody tr th {\n",
       "        vertical-align: top;\n",
       "    }\n",
       "\n",
       "    .dataframe thead th {\n",
       "        text-align: right;\n",
       "    }\n",
       "</style>\n",
       "<table border=\"1\" class=\"dataframe\">\n",
       "  <thead>\n",
       "    <tr style=\"text-align: right;\">\n",
       "      <th></th>\n",
       "      <th>Unnamed: 0</th>\n",
       "      <th>Primary_applicant_age_in_years</th>\n",
       "      <th>Gender</th>\n",
       "      <th>Marital_status</th>\n",
       "      <th>Number_of_dependents</th>\n",
       "      <th>Housing</th>\n",
       "      <th>Years_at_current_residence</th>\n",
       "      <th>Employment_status</th>\n",
       "      <th>Has_been_employed_for_at_least</th>\n",
       "      <th>Has_been_employed_for_at_most</th>\n",
       "      <th>...</th>\n",
       "      <th>Months_loan_taken_for</th>\n",
       "      <th>Purpose</th>\n",
       "      <th>Principal_loan_amount</th>\n",
       "      <th>EMI_rate_in_percentage_of_disposable_income</th>\n",
       "      <th>Property</th>\n",
       "      <th>Has_coapplicant</th>\n",
       "      <th>Has_guarantor</th>\n",
       "      <th>Number_of_existing_loans_at_this_bank</th>\n",
       "      <th>Loan_history</th>\n",
       "      <th>high_risk_applicant</th>\n",
       "    </tr>\n",
       "  </thead>\n",
       "  <tbody>\n",
       "    <tr>\n",
       "      <th>0</th>\n",
       "      <td>0</td>\n",
       "      <td>67</td>\n",
       "      <td>male</td>\n",
       "      <td>single</td>\n",
       "      <td>1</td>\n",
       "      <td>own</td>\n",
       "      <td>4</td>\n",
       "      <td>skilled employee / official</td>\n",
       "      <td>7 years</td>\n",
       "      <td>7 years</td>\n",
       "      <td>...</td>\n",
       "      <td>6</td>\n",
       "      <td>electronic equipment</td>\n",
       "      <td>1169000</td>\n",
       "      <td>4</td>\n",
       "      <td>real estate</td>\n",
       "      <td>0</td>\n",
       "      <td>0</td>\n",
       "      <td>2</td>\n",
       "      <td>critical/pending loans at other banks</td>\n",
       "      <td>0</td>\n",
       "    </tr>\n",
       "    <tr>\n",
       "      <th>1</th>\n",
       "      <td>1</td>\n",
       "      <td>22</td>\n",
       "      <td>female</td>\n",
       "      <td>divorced/separated/married</td>\n",
       "      <td>1</td>\n",
       "      <td>own</td>\n",
       "      <td>2</td>\n",
       "      <td>skilled employee / official</td>\n",
       "      <td>1 year</td>\n",
       "      <td>4 years</td>\n",
       "      <td>...</td>\n",
       "      <td>48</td>\n",
       "      <td>electronic equipment</td>\n",
       "      <td>5951000</td>\n",
       "      <td>2</td>\n",
       "      <td>real estate</td>\n",
       "      <td>0</td>\n",
       "      <td>0</td>\n",
       "      <td>1</td>\n",
       "      <td>existing loans paid back duly till now</td>\n",
       "      <td>1</td>\n",
       "    </tr>\n",
       "    <tr>\n",
       "      <th>2</th>\n",
       "      <td>2</td>\n",
       "      <td>49</td>\n",
       "      <td>male</td>\n",
       "      <td>single</td>\n",
       "      <td>2</td>\n",
       "      <td>own</td>\n",
       "      <td>3</td>\n",
       "      <td>unskilled - resident</td>\n",
       "      <td>4 years</td>\n",
       "      <td>7 years</td>\n",
       "      <td>...</td>\n",
       "      <td>12</td>\n",
       "      <td>education</td>\n",
       "      <td>2096000</td>\n",
       "      <td>2</td>\n",
       "      <td>real estate</td>\n",
       "      <td>0</td>\n",
       "      <td>0</td>\n",
       "      <td>1</td>\n",
       "      <td>critical/pending loans at other banks</td>\n",
       "      <td>0</td>\n",
       "    </tr>\n",
       "    <tr>\n",
       "      <th>3</th>\n",
       "      <td>3</td>\n",
       "      <td>45</td>\n",
       "      <td>male</td>\n",
       "      <td>single</td>\n",
       "      <td>2</td>\n",
       "      <td>for free</td>\n",
       "      <td>4</td>\n",
       "      <td>skilled employee / official</td>\n",
       "      <td>4 years</td>\n",
       "      <td>7 years</td>\n",
       "      <td>...</td>\n",
       "      <td>42</td>\n",
       "      <td>FF&amp;E</td>\n",
       "      <td>7882000</td>\n",
       "      <td>2</td>\n",
       "      <td>building society savings agreement/life insurance</td>\n",
       "      <td>0</td>\n",
       "      <td>1</td>\n",
       "      <td>1</td>\n",
       "      <td>existing loans paid back duly till now</td>\n",
       "      <td>0</td>\n",
       "    </tr>\n",
       "    <tr>\n",
       "      <th>4</th>\n",
       "      <td>4</td>\n",
       "      <td>53</td>\n",
       "      <td>male</td>\n",
       "      <td>single</td>\n",
       "      <td>2</td>\n",
       "      <td>for free</td>\n",
       "      <td>4</td>\n",
       "      <td>skilled employee / official</td>\n",
       "      <td>1 year</td>\n",
       "      <td>4 years</td>\n",
       "      <td>...</td>\n",
       "      <td>24</td>\n",
       "      <td>new vehicle</td>\n",
       "      <td>4870000</td>\n",
       "      <td>3</td>\n",
       "      <td>car or other</td>\n",
       "      <td>0</td>\n",
       "      <td>0</td>\n",
       "      <td>2</td>\n",
       "      <td>delay in paying off loans in the past</td>\n",
       "      <td>1</td>\n",
       "    </tr>\n",
       "  </tbody>\n",
       "</table>\n",
       "<p>5 rows × 22 columns</p>\n",
       "</div>"
      ],
      "text/plain": [
       "   Unnamed: 0  Primary_applicant_age_in_years  Gender  \\\n",
       "0           0                              67    male   \n",
       "1           1                              22  female   \n",
       "2           2                              49    male   \n",
       "3           3                              45    male   \n",
       "4           4                              53    male   \n",
       "\n",
       "               Marital_status  Number_of_dependents   Housing  \\\n",
       "0                      single                     1       own   \n",
       "1  divorced/separated/married                     1       own   \n",
       "2                      single                     2       own   \n",
       "3                      single                     2  for free   \n",
       "4                      single                     2  for free   \n",
       "\n",
       "   Years_at_current_residence            Employment_status  \\\n",
       "0                           4  skilled employee / official   \n",
       "1                           2  skilled employee / official   \n",
       "2                           3         unskilled - resident   \n",
       "3                           4  skilled employee / official   \n",
       "4                           4  skilled employee / official   \n",
       "\n",
       "  Has_been_employed_for_at_least Has_been_employed_for_at_most  ...  \\\n",
       "0                        7 years                       7 years  ...   \n",
       "1                         1 year                       4 years  ...   \n",
       "2                        4 years                       7 years  ...   \n",
       "3                        4 years                       7 years  ...   \n",
       "4                         1 year                       4 years  ...   \n",
       "\n",
       "   Months_loan_taken_for               Purpose  Principal_loan_amount  \\\n",
       "0                      6  electronic equipment                1169000   \n",
       "1                     48  electronic equipment                5951000   \n",
       "2                     12             education                2096000   \n",
       "3                     42                  FF&E                7882000   \n",
       "4                     24           new vehicle                4870000   \n",
       "\n",
       "  EMI_rate_in_percentage_of_disposable_income  \\\n",
       "0                                           4   \n",
       "1                                           2   \n",
       "2                                           2   \n",
       "3                                           2   \n",
       "4                                           3   \n",
       "\n",
       "                                            Property  Has_coapplicant  \\\n",
       "0                                        real estate                0   \n",
       "1                                        real estate                0   \n",
       "2                                        real estate                0   \n",
       "3  building society savings agreement/life insurance                0   \n",
       "4                                       car or other                0   \n",
       "\n",
       "  Has_guarantor  Number_of_existing_loans_at_this_bank  \\\n",
       "0             0                                      2   \n",
       "1             0                                      1   \n",
       "2             0                                      1   \n",
       "3             1                                      1   \n",
       "4             0                                      2   \n",
       "\n",
       "                             Loan_history  high_risk_applicant  \n",
       "0   critical/pending loans at other banks                    0  \n",
       "1  existing loans paid back duly till now                    1  \n",
       "2   critical/pending loans at other banks                    0  \n",
       "3  existing loans paid back duly till now                    0  \n",
       "4   delay in paying off loans in the past                    1  \n",
       "\n",
       "[5 rows x 22 columns]"
      ]
     },
     "execution_count": 5,
     "metadata": {},
     "output_type": "execute_result"
    }
   ],
   "source": [
    "df.head()"
   ]
  },
  {
   "cell_type": "markdown",
   "id": "a36520bb",
   "metadata": {},
   "source": [
    "We will drop the column 'Unnamed' as it was created to index the rows only.\n"
   ]
  },
  {
   "cell_type": "code",
   "execution_count": 6,
   "id": "78d26ce1",
   "metadata": {},
   "outputs": [],
   "source": [
    "df.drop('Unnamed: 0', axis=1, inplace=True)"
   ]
  },
  {
   "cell_type": "code",
   "execution_count": 7,
   "id": "9787bb05",
   "metadata": {},
   "outputs": [
    {
     "name": "stdout",
     "output_type": "stream",
     "text": [
      "<class 'pandas.core.frame.DataFrame'>\n",
      "RangeIndex: 1000 entries, 0 to 999\n",
      "Data columns (total 21 columns):\n",
      " #   Column                                       Non-Null Count  Dtype \n",
      "---  ------                                       --------------  ----- \n",
      " 0   Primary_applicant_age_in_years               1000 non-null   int64 \n",
      " 1   Gender                                       1000 non-null   object\n",
      " 2   Marital_status                               1000 non-null   object\n",
      " 3   Number_of_dependents                         1000 non-null   int64 \n",
      " 4   Housing                                      1000 non-null   object\n",
      " 5   Years_at_current_residence                   1000 non-null   int64 \n",
      " 6   Employment_status                            1000 non-null   object\n",
      " 7   Has_been_employed_for_at_least               1000 non-null   object\n",
      " 8   Has_been_employed_for_at_most                1000 non-null   object\n",
      " 9   Foreign_worker                               1000 non-null   int64 \n",
      " 10  Savings_account_balance                      1000 non-null   object\n",
      " 11  Months_loan_taken_for                        1000 non-null   int64 \n",
      " 12  Purpose                                      1000 non-null   object\n",
      " 13  Principal_loan_amount                        1000 non-null   int64 \n",
      " 14  EMI_rate_in_percentage_of_disposable_income  1000 non-null   int64 \n",
      " 15  Property                                     1000 non-null   object\n",
      " 16  Has_coapplicant                              1000 non-null   int64 \n",
      " 17  Has_guarantor                                1000 non-null   int64 \n",
      " 18  Number_of_existing_loans_at_this_bank        1000 non-null   int64 \n",
      " 19  Loan_history                                 1000 non-null   object\n",
      " 20  high_risk_applicant                          1000 non-null   int64 \n",
      "dtypes: int64(11), object(10)\n",
      "memory usage: 164.2+ KB\n"
     ]
    }
   ],
   "source": [
    "df.info()"
   ]
  },
  {
   "cell_type": "markdown",
   "id": "f4a9661a",
   "metadata": {},
   "source": [
    "### Describing the correlation"
   ]
  },
  {
   "cell_type": "code",
   "execution_count": 8,
   "id": "30760194",
   "metadata": {},
   "outputs": [
    {
     "data": {
      "text/html": [
       "<div>\n",
       "<style scoped>\n",
       "    .dataframe tbody tr th:only-of-type {\n",
       "        vertical-align: middle;\n",
       "    }\n",
       "\n",
       "    .dataframe tbody tr th {\n",
       "        vertical-align: top;\n",
       "    }\n",
       "\n",
       "    .dataframe thead th {\n",
       "        text-align: right;\n",
       "    }\n",
       "</style>\n",
       "<table border=\"1\" class=\"dataframe\">\n",
       "  <thead>\n",
       "    <tr style=\"text-align: right;\">\n",
       "      <th></th>\n",
       "      <th>Primary_applicant_age_in_years</th>\n",
       "      <th>Number_of_dependents</th>\n",
       "      <th>Years_at_current_residence</th>\n",
       "      <th>Foreign_worker</th>\n",
       "      <th>Months_loan_taken_for</th>\n",
       "      <th>Principal_loan_amount</th>\n",
       "      <th>EMI_rate_in_percentage_of_disposable_income</th>\n",
       "      <th>Has_coapplicant</th>\n",
       "      <th>Has_guarantor</th>\n",
       "      <th>Number_of_existing_loans_at_this_bank</th>\n",
       "      <th>high_risk_applicant</th>\n",
       "    </tr>\n",
       "  </thead>\n",
       "  <tbody>\n",
       "    <tr>\n",
       "      <th>Primary_applicant_age_in_years</th>\n",
       "      <td>1.000000</td>\n",
       "      <td>0.118201</td>\n",
       "      <td>0.266419</td>\n",
       "      <td>0.006151</td>\n",
       "      <td>-0.036136</td>\n",
       "      <td>0.032716</td>\n",
       "      <td>0.058266</td>\n",
       "      <td>-0.018357</td>\n",
       "      <td>-0.023923</td>\n",
       "      <td>0.149254</td>\n",
       "      <td>-0.091127</td>\n",
       "    </tr>\n",
       "    <tr>\n",
       "      <th>Number_of_dependents</th>\n",
       "      <td>0.118201</td>\n",
       "      <td>1.000000</td>\n",
       "      <td>0.042643</td>\n",
       "      <td>-0.077071</td>\n",
       "      <td>-0.023834</td>\n",
       "      <td>0.017142</td>\n",
       "      <td>-0.071207</td>\n",
       "      <td>-0.032817</td>\n",
       "      <td>0.036589</td>\n",
       "      <td>0.109667</td>\n",
       "      <td>-0.003015</td>\n",
       "    </tr>\n",
       "    <tr>\n",
       "      <th>Years_at_current_residence</th>\n",
       "      <td>0.266419</td>\n",
       "      <td>0.042643</td>\n",
       "      <td>1.000000</td>\n",
       "      <td>0.054097</td>\n",
       "      <td>0.034067</td>\n",
       "      <td>0.028926</td>\n",
       "      <td>0.049302</td>\n",
       "      <td>0.001623</td>\n",
       "      <td>-0.028334</td>\n",
       "      <td>0.089625</td>\n",
       "      <td>0.002967</td>\n",
       "    </tr>\n",
       "    <tr>\n",
       "      <th>Foreign_worker</th>\n",
       "      <td>0.006151</td>\n",
       "      <td>-0.077071</td>\n",
       "      <td>0.054097</td>\n",
       "      <td>1.000000</td>\n",
       "      <td>0.138196</td>\n",
       "      <td>0.050050</td>\n",
       "      <td>0.090024</td>\n",
       "      <td>-0.066338</td>\n",
       "      <td>-0.097256</td>\n",
       "      <td>0.009717</td>\n",
       "      <td>0.082079</td>\n",
       "    </tr>\n",
       "    <tr>\n",
       "      <th>Months_loan_taken_for</th>\n",
       "      <td>-0.036136</td>\n",
       "      <td>-0.023834</td>\n",
       "      <td>0.034067</td>\n",
       "      <td>0.138196</td>\n",
       "      <td>1.000000</td>\n",
       "      <td>0.624984</td>\n",
       "      <td>0.074749</td>\n",
       "      <td>0.029698</td>\n",
       "      <td>-0.039594</td>\n",
       "      <td>-0.011284</td>\n",
       "      <td>0.214927</td>\n",
       "    </tr>\n",
       "    <tr>\n",
       "      <th>Principal_loan_amount</th>\n",
       "      <td>0.032716</td>\n",
       "      <td>0.017142</td>\n",
       "      <td>0.028926</td>\n",
       "      <td>0.050050</td>\n",
       "      <td>0.624984</td>\n",
       "      <td>1.000000</td>\n",
       "      <td>-0.271316</td>\n",
       "      <td>0.079076</td>\n",
       "      <td>-0.065237</td>\n",
       "      <td>0.020795</td>\n",
       "      <td>0.154739</td>\n",
       "    </tr>\n",
       "    <tr>\n",
       "      <th>EMI_rate_in_percentage_of_disposable_income</th>\n",
       "      <td>0.058266</td>\n",
       "      <td>-0.071207</td>\n",
       "      <td>0.049302</td>\n",
       "      <td>0.090024</td>\n",
       "      <td>0.074749</td>\n",
       "      <td>-0.271316</td>\n",
       "      <td>1.000000</td>\n",
       "      <td>-0.013048</td>\n",
       "      <td>-0.006429</td>\n",
       "      <td>0.021669</td>\n",
       "      <td>0.072404</td>\n",
       "    </tr>\n",
       "    <tr>\n",
       "      <th>Has_coapplicant</th>\n",
       "      <td>-0.018357</td>\n",
       "      <td>-0.032817</td>\n",
       "      <td>0.001623</td>\n",
       "      <td>-0.066338</td>\n",
       "      <td>0.029698</td>\n",
       "      <td>0.079076</td>\n",
       "      <td>-0.013048</td>\n",
       "      <td>1.000000</td>\n",
       "      <td>-0.048426</td>\n",
       "      <td>-0.006001</td>\n",
       "      <td>0.062728</td>\n",
       "    </tr>\n",
       "    <tr>\n",
       "      <th>Has_guarantor</th>\n",
       "      <td>-0.023923</td>\n",
       "      <td>0.036589</td>\n",
       "      <td>-0.028334</td>\n",
       "      <td>-0.097256</td>\n",
       "      <td>-0.039594</td>\n",
       "      <td>-0.065237</td>\n",
       "      <td>-0.006429</td>\n",
       "      <td>-0.048426</td>\n",
       "      <td>1.000000</td>\n",
       "      <td>-0.024682</td>\n",
       "      <td>-0.055039</td>\n",
       "    </tr>\n",
       "    <tr>\n",
       "      <th>Number_of_existing_loans_at_this_bank</th>\n",
       "      <td>0.149254</td>\n",
       "      <td>0.109667</td>\n",
       "      <td>0.089625</td>\n",
       "      <td>0.009717</td>\n",
       "      <td>-0.011284</td>\n",
       "      <td>0.020795</td>\n",
       "      <td>0.021669</td>\n",
       "      <td>-0.006001</td>\n",
       "      <td>-0.024682</td>\n",
       "      <td>1.000000</td>\n",
       "      <td>-0.045732</td>\n",
       "    </tr>\n",
       "    <tr>\n",
       "      <th>high_risk_applicant</th>\n",
       "      <td>-0.091127</td>\n",
       "      <td>-0.003015</td>\n",
       "      <td>0.002967</td>\n",
       "      <td>0.082079</td>\n",
       "      <td>0.214927</td>\n",
       "      <td>0.154739</td>\n",
       "      <td>0.072404</td>\n",
       "      <td>0.062728</td>\n",
       "      <td>-0.055039</td>\n",
       "      <td>-0.045732</td>\n",
       "      <td>1.000000</td>\n",
       "    </tr>\n",
       "  </tbody>\n",
       "</table>\n",
       "</div>"
      ],
      "text/plain": [
       "                                             Primary_applicant_age_in_years  \\\n",
       "Primary_applicant_age_in_years                                     1.000000   \n",
       "Number_of_dependents                                               0.118201   \n",
       "Years_at_current_residence                                         0.266419   \n",
       "Foreign_worker                                                     0.006151   \n",
       "Months_loan_taken_for                                             -0.036136   \n",
       "Principal_loan_amount                                              0.032716   \n",
       "EMI_rate_in_percentage_of_disposable_income                        0.058266   \n",
       "Has_coapplicant                                                   -0.018357   \n",
       "Has_guarantor                                                     -0.023923   \n",
       "Number_of_existing_loans_at_this_bank                              0.149254   \n",
       "high_risk_applicant                                               -0.091127   \n",
       "\n",
       "                                             Number_of_dependents  \\\n",
       "Primary_applicant_age_in_years                           0.118201   \n",
       "Number_of_dependents                                     1.000000   \n",
       "Years_at_current_residence                               0.042643   \n",
       "Foreign_worker                                          -0.077071   \n",
       "Months_loan_taken_for                                   -0.023834   \n",
       "Principal_loan_amount                                    0.017142   \n",
       "EMI_rate_in_percentage_of_disposable_income             -0.071207   \n",
       "Has_coapplicant                                         -0.032817   \n",
       "Has_guarantor                                            0.036589   \n",
       "Number_of_existing_loans_at_this_bank                    0.109667   \n",
       "high_risk_applicant                                     -0.003015   \n",
       "\n",
       "                                             Years_at_current_residence  \\\n",
       "Primary_applicant_age_in_years                                 0.266419   \n",
       "Number_of_dependents                                           0.042643   \n",
       "Years_at_current_residence                                     1.000000   \n",
       "Foreign_worker                                                 0.054097   \n",
       "Months_loan_taken_for                                          0.034067   \n",
       "Principal_loan_amount                                          0.028926   \n",
       "EMI_rate_in_percentage_of_disposable_income                    0.049302   \n",
       "Has_coapplicant                                                0.001623   \n",
       "Has_guarantor                                                 -0.028334   \n",
       "Number_of_existing_loans_at_this_bank                          0.089625   \n",
       "high_risk_applicant                                            0.002967   \n",
       "\n",
       "                                             Foreign_worker  \\\n",
       "Primary_applicant_age_in_years                     0.006151   \n",
       "Number_of_dependents                              -0.077071   \n",
       "Years_at_current_residence                         0.054097   \n",
       "Foreign_worker                                     1.000000   \n",
       "Months_loan_taken_for                              0.138196   \n",
       "Principal_loan_amount                              0.050050   \n",
       "EMI_rate_in_percentage_of_disposable_income        0.090024   \n",
       "Has_coapplicant                                   -0.066338   \n",
       "Has_guarantor                                     -0.097256   \n",
       "Number_of_existing_loans_at_this_bank              0.009717   \n",
       "high_risk_applicant                                0.082079   \n",
       "\n",
       "                                             Months_loan_taken_for  \\\n",
       "Primary_applicant_age_in_years                           -0.036136   \n",
       "Number_of_dependents                                     -0.023834   \n",
       "Years_at_current_residence                                0.034067   \n",
       "Foreign_worker                                            0.138196   \n",
       "Months_loan_taken_for                                     1.000000   \n",
       "Principal_loan_amount                                     0.624984   \n",
       "EMI_rate_in_percentage_of_disposable_income               0.074749   \n",
       "Has_coapplicant                                           0.029698   \n",
       "Has_guarantor                                            -0.039594   \n",
       "Number_of_existing_loans_at_this_bank                    -0.011284   \n",
       "high_risk_applicant                                       0.214927   \n",
       "\n",
       "                                             Principal_loan_amount  \\\n",
       "Primary_applicant_age_in_years                            0.032716   \n",
       "Number_of_dependents                                      0.017142   \n",
       "Years_at_current_residence                                0.028926   \n",
       "Foreign_worker                                            0.050050   \n",
       "Months_loan_taken_for                                     0.624984   \n",
       "Principal_loan_amount                                     1.000000   \n",
       "EMI_rate_in_percentage_of_disposable_income              -0.271316   \n",
       "Has_coapplicant                                           0.079076   \n",
       "Has_guarantor                                            -0.065237   \n",
       "Number_of_existing_loans_at_this_bank                     0.020795   \n",
       "high_risk_applicant                                       0.154739   \n",
       "\n",
       "                                             EMI_rate_in_percentage_of_disposable_income  \\\n",
       "Primary_applicant_age_in_years                                                  0.058266   \n",
       "Number_of_dependents                                                           -0.071207   \n",
       "Years_at_current_residence                                                      0.049302   \n",
       "Foreign_worker                                                                  0.090024   \n",
       "Months_loan_taken_for                                                           0.074749   \n",
       "Principal_loan_amount                                                          -0.271316   \n",
       "EMI_rate_in_percentage_of_disposable_income                                     1.000000   \n",
       "Has_coapplicant                                                                -0.013048   \n",
       "Has_guarantor                                                                  -0.006429   \n",
       "Number_of_existing_loans_at_this_bank                                           0.021669   \n",
       "high_risk_applicant                                                             0.072404   \n",
       "\n",
       "                                             Has_coapplicant  Has_guarantor  \\\n",
       "Primary_applicant_age_in_years                     -0.018357      -0.023923   \n",
       "Number_of_dependents                               -0.032817       0.036589   \n",
       "Years_at_current_residence                          0.001623      -0.028334   \n",
       "Foreign_worker                                     -0.066338      -0.097256   \n",
       "Months_loan_taken_for                               0.029698      -0.039594   \n",
       "Principal_loan_amount                               0.079076      -0.065237   \n",
       "EMI_rate_in_percentage_of_disposable_income        -0.013048      -0.006429   \n",
       "Has_coapplicant                                     1.000000      -0.048426   \n",
       "Has_guarantor                                      -0.048426       1.000000   \n",
       "Number_of_existing_loans_at_this_bank              -0.006001      -0.024682   \n",
       "high_risk_applicant                                 0.062728      -0.055039   \n",
       "\n",
       "                                             Number_of_existing_loans_at_this_bank  \\\n",
       "Primary_applicant_age_in_years                                            0.149254   \n",
       "Number_of_dependents                                                      0.109667   \n",
       "Years_at_current_residence                                                0.089625   \n",
       "Foreign_worker                                                            0.009717   \n",
       "Months_loan_taken_for                                                    -0.011284   \n",
       "Principal_loan_amount                                                     0.020795   \n",
       "EMI_rate_in_percentage_of_disposable_income                               0.021669   \n",
       "Has_coapplicant                                                          -0.006001   \n",
       "Has_guarantor                                                            -0.024682   \n",
       "Number_of_existing_loans_at_this_bank                                     1.000000   \n",
       "high_risk_applicant                                                      -0.045732   \n",
       "\n",
       "                                             high_risk_applicant  \n",
       "Primary_applicant_age_in_years                         -0.091127  \n",
       "Number_of_dependents                                   -0.003015  \n",
       "Years_at_current_residence                              0.002967  \n",
       "Foreign_worker                                          0.082079  \n",
       "Months_loan_taken_for                                   0.214927  \n",
       "Principal_loan_amount                                   0.154739  \n",
       "EMI_rate_in_percentage_of_disposable_income             0.072404  \n",
       "Has_coapplicant                                         0.062728  \n",
       "Has_guarantor                                          -0.055039  \n",
       "Number_of_existing_loans_at_this_bank                  -0.045732  \n",
       "high_risk_applicant                                     1.000000  "
      ]
     },
     "execution_count": 8,
     "metadata": {},
     "output_type": "execute_result"
    }
   ],
   "source": [
    "df.corr().T"
   ]
  },
  {
   "cell_type": "markdown",
   "id": "e29045ea",
   "metadata": {},
   "source": [
    "### Displaying the correlation"
   ]
  },
  {
   "cell_type": "code",
   "execution_count": 10,
   "id": "beb2640f",
   "metadata": {},
   "outputs": [
    {
     "data": {
      "image/png": "[encoded data removed]",
      "text/plain": [
       "<Figure size 1440x864 with 2 Axes>"
      ]
     },
     "metadata": {
      "needs_background": "light"
     },
     "output_type": "display_data"
    }
   ],
   "source": [
    "plt.figure(figsize=(20,12))\n",
    "sns.heatmap(df.corr(),annot=True,fmt = '.2f',cmap='Pastel1')\n",
    "plt.xticks(fontsize=16)\n",
    "plt.yticks(fontsize=16)\n",
    "plt.title('Correlation heatmap');"
   ]
  },
  {
   "cell_type": "markdown",
   "id": "49bf5f5e",
   "metadata": {},
   "source": [
    "# INFERENCE:\n",
    "\n",
    "1.High_risk_applicant has high positive correlation with months_loan_taken_for and Principal_loan_amount\n",
    "<br>2.The principal loan amount has high positive correlation with months loan taken for as if the principal loan amount increases the time needed to repay it will also increase.\n",
    "<br>3.We can also see that Principal loan amount has high r=negative correlation with the EMI Rate.(As the loan amount will increase, EMI rate will decrease)"
   ]
  },
  {
   "cell_type": "markdown",
   "id": "7bc54a71",
   "metadata": {},
   "source": [
    "# Feature Engineering"
   ]
  },
  {
   "cell_type": "markdown",
   "id": "2a91d624",
   "metadata": {},
   "source": [
    "1.We have already done the data cleaning and EDA process in the first task.\n",
    "<br>2.We will first bin the age, number of month loan taken column into some part categories.\n",
    "<br>3.We will then convert the categorical data into numerical features for model training.\n",
    "<br>4.We will scale the data using StandardScalar to fit into a similar scale for better predictions.\n"
   ]
  },
  {
   "cell_type": "markdown",
   "id": "f83e8d75",
   "metadata": {},
   "source": [
    "#### Displaying all the unique variables and number of unique variables in categorical and numerical column\n"
   ]
  },
  {
   "cell_type": "code",
   "execution_count": 14,
   "id": "f4282703",
   "metadata": {},
   "outputs": [
    {
     "name": "stdout",
     "output_type": "stream",
     "text": [
      "Unique values in categorical columns Gender are: ['male' 'female'] and number of categories are 2 \n",
      "\n",
      "Unique values in categorical columns Marital_status are: ['single' 'divorced/separated/married' 'divorced/separated'\n",
      " 'married/widowed'] and number of categories are 4 \n",
      "\n",
      "Unique values in categorical columns Housing are: ['own' 'for free' 'rent'] and number of categories are 3 \n",
      "\n",
      "Unique values in categorical columns Employment_status are: ['skilled employee / official' 'unskilled - resident'\n",
      " 'management / self-employed / highly qualified employee / officer'\n",
      " 'unemployed / unskilled - non-resident'] and number of categories are 4 \n",
      "\n",
      "Unique values in categorical columns Has_been_employed_for_at_least are: ['7 years' '1 year' '4 years' '0 year'] and number of categories are 4 \n",
      "\n",
      "Unique values in categorical columns Has_been_employed_for_at_most are: ['7 years' '4 years' '0 year' '1 year'] and number of categories are 4 \n",
      "\n",
      "Unique values in categorical columns Savings_account_balance are: ['Low' 'High' 'Very high' 'Medium'] and number of categories are 4 \n",
      "\n",
      "Unique values in categorical columns Purpose are: ['electronic equipment' 'education' 'FF&E' 'new vehicle' 'used vehicle'\n",
      " 'business' 'domestic appliances' 'repair costs' 'career development'] and number of categories are 9 \n",
      "\n",
      "Unique values in categorical columns Property are: ['real estate' 'building society savings agreement/life insurance'\n",
      " 'car or other'] and number of categories are 3 \n",
      "\n",
      "Unique values in categorical columns Loan_history are: ['critical/pending loans at other banks'\n",
      " 'existing loans paid back duly till now'\n",
      " 'delay in paying off loans in the past'\n",
      " 'no loans taken/all loans paid back duly'\n",
      " 'all loans at this bank paid back duly'] and number of categories are 5 \n",
      "\n"
     ]
    }
   ],
   "source": [
    "categorical_columns = df.select_dtypes(include=['object'])\n",
    "for col in categorical_columns:\n",
    "  print(f'Unique values in categorical columns {col} are: {categorical_columns[col].unique()} and number of categories are {len(categorical_columns[col].unique())} \\n')"
   ]
  },
  {
   "cell_type": "code",
   "execution_count": 15,
   "id": "7ed7acbb",
   "metadata": {},
   "outputs": [
    {
     "name": "stdout",
     "output_type": "stream",
     "text": [
      "Unique values in numerical columns Primary_applicant_age_in_years are: [67 22 49 45 53 35 61 28 25 24 60 32 44 31 48]\n",
      "\n",
      "Unique values in numerical columns Number_of_dependents are: [1 2]\n",
      "\n",
      "Unique values in numerical columns Years_at_current_residence are: [4 2 3 1]\n",
      "\n",
      "Unique values in numerical columns Foreign_worker are: [1 0]\n",
      "\n",
      "Unique values in numerical columns Months_loan_taken_for are: [ 6 48 12 42 24 36 30 15  9 10  7 60 18 45 11]\n",
      "\n",
      "Unique values in numerical columns Principal_loan_amount are: [1169000 5951000 2096000 7882000 4870000 9055000 2835000 6948000 3059000\n",
      " 5234000 1295000 4308000 1567000 1199000 1403000]\n",
      "\n",
      "Unique values in numerical columns EMI_rate_in_percentage_of_disposable_income are: [4 2 3 1]\n",
      "\n",
      "Unique values in numerical columns Has_coapplicant are: [0 1]\n",
      "\n",
      "Unique values in numerical columns Has_guarantor are: [0 1]\n",
      "\n",
      "Unique values in numerical columns Number_of_existing_loans_at_this_bank are: [2 1 3 4]\n",
      "\n",
      "Unique values in numerical columns high_risk_applicant are: [0 1]\n",
      "\n"
     ]
    }
   ],
   "source": [
    "numerical_columns = df._get_numeric_data()\n",
    "for col in numerical_columns:\n",
    "  print(f'Unique values in numerical columns {col} are: {numerical_columns[col].unique()[:15]}\\n')"
   ]
  },
  {
   "cell_type": "markdown",
   "id": "b27d2e82",
   "metadata": {},
   "source": [
    "### We will be creating bins for the categorical features\n",
    " 1.Creating bins of age to distribute age range in three categories\n",
    "<br>2.As age ranges from 19 to 75 we will divide t into three categories youth, middle age and senior citizen"
   ]
  },
  {
   "cell_type": "code",
   "execution_count": 17,
   "id": "2ec081ed",
   "metadata": {},
   "outputs": [],
   "source": [
    "df['applicant_age'] = np.nan\n",
    "df.loc[df.Primary_applicant_age_in_years<=30,'applicant_age'] = 'youth'\n",
    "df.loc[(df.Primary_applicant_age_in_years > 31) & (df.Primary_applicant_age_in_years < 60), 'applicant_age'] = 'middle_age'\n",
    "df.loc[(df.Primary_applicant_age_in_years >=60 ), 'applicant_age'] = 'senior_citizen'"
   ]
  },
  {
   "cell_type": "markdown",
   "id": "e23ae3b9",
   "metadata": {},
   "source": [
    "1.Creating bins of Months_loan_taken_for to distribute range in three categories\n",
    "<br>2.As Months_loan_taken_for ranges from 4 to 72, we will divide it into three catgories, 1-12 months, 12-24 months and greather than 24month"
   ]
  },
  {
   "cell_type": "code",
   "execution_count": 18,
   "id": "30d4983e",
   "metadata": {},
   "outputs": [],
   "source": [
    "df['loan_duration'] = np.nan\n",
    "df.loc[df.Months_loan_taken_for<=12,'loan_duration'] = '1_12_month'\n",
    "df.loc[(df.Months_loan_taken_for > 12) & (df.Months_loan_taken_for < 25), 'loan_duration'] = '12_24_month'\n",
    "df.loc[(df.Months_loan_taken_for >24 ), 'loan_duration'] = 'greater_than_24_month'"
   ]
  },
  {
   "cell_type": "markdown",
   "id": "ed40ea45",
   "metadata": {},
   "source": [
    "#### Since we have created bins for these two columns, we can now drop them."
   ]
  },
  {
   "cell_type": "code",
   "execution_count": 19,
   "id": "4169e4aa",
   "metadata": {},
   "outputs": [],
   "source": [
    "df.drop(columns = ['Primary_applicant_age_in_years','Months_loan_taken_for'], inplace=True)"
   ]
  },
  {
   "cell_type": "markdown",
   "id": "2b46d123",
   "metadata": {},
   "source": [
    "### One-Hot-Coding\n",
    "\n",
    "1.Selecting the variables for one hot coding\n",
    "<br>2.We will do one hot encoding using get dummies and setting drop first true to avoid dummy variable trap\n"
   ]
  },
  {
   "cell_type": "code",
   "execution_count": 20,
   "id": "d7fd22e7",
   "metadata": {},
   "outputs": [],
   "source": [
    "col_for_one_hot_encoding = ['Gender','Marital_status','Housing','Employment_status','Has_been_employed_for_at_least','Has_been_employed_for_at_most',\n",
    " 'Savings_account_balance','Purpose','Property','Loan_history','Number_of_dependents','Years_at_current_residence',\n",
    " 'EMI_rate_in_percentage_of_disposable_income','Number_of_existing_loans_at_this_bank','applicant_age','loan_duration']"
   ]
  },
  {
   "cell_type": "code",
   "execution_count": 21,
   "id": "3f872958",
   "metadata": {},
   "outputs": [],
   "source": [
    "df = pd.get_dummies(df,columns=col_for_one_hot_encoding, drop_first=True)"
   ]
  },
  {
   "cell_type": "code",
   "execution_count": 22,
   "id": "ec9f430a",
   "metadata": {},
   "outputs": [
    {
     "data": {
      "text/html": [
       "<div>\n",
       "<style scoped>\n",
       "    .dataframe tbody tr th:only-of-type {\n",
       "        vertical-align: middle;\n",
       "    }\n",
       "\n",
       "    .dataframe tbody tr th {\n",
       "        vertical-align: top;\n",
       "    }\n",
       "\n",
       "    .dataframe thead th {\n",
       "        text-align: right;\n",
       "    }\n",
       "</style>\n",
       "<table border=\"1\" class=\"dataframe\">\n",
       "  <thead>\n",
       "    <tr style=\"text-align: right;\">\n",
       "      <th></th>\n",
       "      <th>Foreign_worker</th>\n",
       "      <th>Principal_loan_amount</th>\n",
       "      <th>Has_coapplicant</th>\n",
       "      <th>Has_guarantor</th>\n",
       "      <th>high_risk_applicant</th>\n",
       "      <th>Gender_male</th>\n",
       "      <th>Marital_status_divorced/separated/married</th>\n",
       "      <th>Marital_status_married/widowed</th>\n",
       "      <th>Marital_status_single</th>\n",
       "      <th>Housing_own</th>\n",
       "      <th>...</th>\n",
       "      <th>EMI_rate_in_percentage_of_disposable_income_2</th>\n",
       "      <th>EMI_rate_in_percentage_of_disposable_income_3</th>\n",
       "      <th>EMI_rate_in_percentage_of_disposable_income_4</th>\n",
       "      <th>Number_of_existing_loans_at_this_bank_2</th>\n",
       "      <th>Number_of_existing_loans_at_this_bank_3</th>\n",
       "      <th>Number_of_existing_loans_at_this_bank_4</th>\n",
       "      <th>applicant_age_senior_citizen</th>\n",
       "      <th>applicant_age_youth</th>\n",
       "      <th>loan_duration_1_12_month</th>\n",
       "      <th>loan_duration_greater_than_24_month</th>\n",
       "    </tr>\n",
       "  </thead>\n",
       "  <tbody>\n",
       "    <tr>\n",
       "      <th>0</th>\n",
       "      <td>1</td>\n",
       "      <td>1169000</td>\n",
       "      <td>0</td>\n",
       "      <td>0</td>\n",
       "      <td>0</td>\n",
       "      <td>1</td>\n",
       "      <td>0</td>\n",
       "      <td>0</td>\n",
       "      <td>1</td>\n",
       "      <td>1</td>\n",
       "      <td>...</td>\n",
       "      <td>0</td>\n",
       "      <td>0</td>\n",
       "      <td>1</td>\n",
       "      <td>1</td>\n",
       "      <td>0</td>\n",
       "      <td>0</td>\n",
       "      <td>1</td>\n",
       "      <td>0</td>\n",
       "      <td>1</td>\n",
       "      <td>0</td>\n",
       "    </tr>\n",
       "    <tr>\n",
       "      <th>1</th>\n",
       "      <td>1</td>\n",
       "      <td>5951000</td>\n",
       "      <td>0</td>\n",
       "      <td>0</td>\n",
       "      <td>1</td>\n",
       "      <td>0</td>\n",
       "      <td>1</td>\n",
       "      <td>0</td>\n",
       "      <td>0</td>\n",
       "      <td>1</td>\n",
       "      <td>...</td>\n",
       "      <td>1</td>\n",
       "      <td>0</td>\n",
       "      <td>0</td>\n",
       "      <td>0</td>\n",
       "      <td>0</td>\n",
       "      <td>0</td>\n",
       "      <td>0</td>\n",
       "      <td>1</td>\n",
       "      <td>0</td>\n",
       "      <td>1</td>\n",
       "    </tr>\n",
       "    <tr>\n",
       "      <th>2</th>\n",
       "      <td>1</td>\n",
       "      <td>2096000</td>\n",
       "      <td>0</td>\n",
       "      <td>0</td>\n",
       "      <td>0</td>\n",
       "      <td>1</td>\n",
       "      <td>0</td>\n",
       "      <td>0</td>\n",
       "      <td>1</td>\n",
       "      <td>1</td>\n",
       "      <td>...</td>\n",
       "      <td>1</td>\n",
       "      <td>0</td>\n",
       "      <td>0</td>\n",
       "      <td>0</td>\n",
       "      <td>0</td>\n",
       "      <td>0</td>\n",
       "      <td>0</td>\n",
       "      <td>0</td>\n",
       "      <td>1</td>\n",
       "      <td>0</td>\n",
       "    </tr>\n",
       "    <tr>\n",
       "      <th>3</th>\n",
       "      <td>1</td>\n",
       "      <td>7882000</td>\n",
       "      <td>0</td>\n",
       "      <td>1</td>\n",
       "      <td>0</td>\n",
       "      <td>1</td>\n",
       "      <td>0</td>\n",
       "      <td>0</td>\n",
       "      <td>1</td>\n",
       "      <td>0</td>\n",
       "      <td>...</td>\n",
       "      <td>1</td>\n",
       "      <td>0</td>\n",
       "      <td>0</td>\n",
       "      <td>0</td>\n",
       "      <td>0</td>\n",
       "      <td>0</td>\n",
       "      <td>0</td>\n",
       "      <td>0</td>\n",
       "      <td>0</td>\n",
       "      <td>1</td>\n",
       "    </tr>\n",
       "    <tr>\n",
       "      <th>4</th>\n",
       "      <td>1</td>\n",
       "      <td>4870000</td>\n",
       "      <td>0</td>\n",
       "      <td>0</td>\n",
       "      <td>1</td>\n",
       "      <td>1</td>\n",
       "      <td>0</td>\n",
       "      <td>0</td>\n",
       "      <td>1</td>\n",
       "      <td>0</td>\n",
       "      <td>...</td>\n",
       "      <td>0</td>\n",
       "      <td>1</td>\n",
       "      <td>0</td>\n",
       "      <td>1</td>\n",
       "      <td>0</td>\n",
       "      <td>0</td>\n",
       "      <td>0</td>\n",
       "      <td>0</td>\n",
       "      <td>0</td>\n",
       "      <td>0</td>\n",
       "    </tr>\n",
       "  </tbody>\n",
       "</table>\n",
       "<p>5 rows × 51 columns</p>\n",
       "</div>"
      ],
      "text/plain": [
       "   Foreign_worker  Principal_loan_amount  Has_coapplicant  Has_guarantor  \\\n",
       "0               1                1169000                0              0   \n",
       "1               1                5951000                0              0   \n",
       "2               1                2096000                0              0   \n",
       "3               1                7882000                0              1   \n",
       "4               1                4870000                0              0   \n",
       "\n",
       "   high_risk_applicant  Gender_male  \\\n",
       "0                    0            1   \n",
       "1                    1            0   \n",
       "2                    0            1   \n",
       "3                    0            1   \n",
       "4                    1            1   \n",
       "\n",
       "   Marital_status_divorced/separated/married  Marital_status_married/widowed  \\\n",
       "0                                          0                               0   \n",
       "1                                          1                               0   \n",
       "2                                          0                               0   \n",
       "3                                          0                               0   \n",
       "4                                          0                               0   \n",
       "\n",
       "   Marital_status_single  Housing_own  ...  \\\n",
       "0                      1            1  ...   \n",
       "1                      0            1  ...   \n",
       "2                      1            1  ...   \n",
       "3                      1            0  ...   \n",
       "4                      1            0  ...   \n",
       "\n",
       "   EMI_rate_in_percentage_of_disposable_income_2  \\\n",
       "0                                              0   \n",
       "1                                              1   \n",
       "2                                              1   \n",
       "3                                              1   \n",
       "4                                              0   \n",
       "\n",
       "   EMI_rate_in_percentage_of_disposable_income_3  \\\n",
       "0                                              0   \n",
       "1                                              0   \n",
       "2                                              0   \n",
       "3                                              0   \n",
       "4                                              1   \n",
       "\n",
       "   EMI_rate_in_percentage_of_disposable_income_4  \\\n",
       "0                                              1   \n",
       "1                                              0   \n",
       "2                                              0   \n",
       "3                                              0   \n",
       "4                                              0   \n",
       "\n",
       "   Number_of_existing_loans_at_this_bank_2  \\\n",
       "0                                        1   \n",
       "1                                        0   \n",
       "2                                        0   \n",
       "3                                        0   \n",
       "4                                        1   \n",
       "\n",
       "   Number_of_existing_loans_at_this_bank_3  \\\n",
       "0                                        0   \n",
       "1                                        0   \n",
       "2                                        0   \n",
       "3                                        0   \n",
       "4                                        0   \n",
       "\n",
       "   Number_of_existing_loans_at_this_bank_4  applicant_age_senior_citizen  \\\n",
       "0                                        0                             1   \n",
       "1                                        0                             0   \n",
       "2                                        0                             0   \n",
       "3                                        0                             0   \n",
       "4                                        0                             0   \n",
       "\n",
       "   applicant_age_youth  loan_duration_1_12_month  \\\n",
       "0                    0                         1   \n",
       "1                    1                         0   \n",
       "2                    0                         1   \n",
       "3                    0                         0   \n",
       "4                    0                         0   \n",
       "\n",
       "   loan_duration_greater_than_24_month  \n",
       "0                                    0  \n",
       "1                                    1  \n",
       "2                                    0  \n",
       "3                                    1  \n",
       "4                                    0  \n",
       "\n",
       "[5 rows x 51 columns]"
      ]
     },
     "execution_count": 22,
     "metadata": {},
     "output_type": "execute_result"
    }
   ],
   "source": [
    "df.head()"
   ]
  },
  {
   "cell_type": "markdown",
   "id": "e593c06e",
   "metadata": {},
   "source": [
    "# MODEL TRAINING AND TESTING\n",
    "\n",
    "\n",
    "Importing all the packages required for Machine Learning"
   ]
  },
  {
   "cell_type": "code",
   "execution_count": 87,
   "id": "42867a54",
   "metadata": {},
   "outputs": [],
   "source": [
    "from sklearn.model_selection import train_test_split #training and testing data split\n",
    "from sklearn.linear_model import LogisticRegression #logistic regression\n",
    "from sklearn.ensemble import RandomForestClassifier #Random Forest\n",
    "from sklearn.tree import DecisionTreeClassifier #Decision Tree\n",
    "from sklearn.metrics import accuracy_score\n",
    "from sklearn.metrics import confusion_matrix #for confusion matrix\n",
    "from sklearn.metrics import classification_report, precision_score, recall_score\n",
    "from sklearn.preprocessing import MinMaxScaler #for feature scaling\n",
    "\n",
    "#importing library for hyperparameter tuning\n",
    "from sklearn.model_selection import GridSearchCV"
   ]
  },
  {
   "cell_type": "code",
   "execution_count": 88,
   "id": "a48411eb",
   "metadata": {},
   "outputs": [
    {
     "name": "stdout",
     "output_type": "stream",
     "text": [
      "Requirement already satisfied: xgboost in c:\\users\\hp\\anaconda3\\lib\\site-packages (1.7.1)\n",
      "Requirement already satisfied: numpy in c:\\users\\hp\\anaconda3\\lib\\site-packages (from xgboost) (1.21.5)\n",
      "Requirement already satisfied: scipy in c:\\users\\hp\\anaconda3\\lib\\site-packages (from xgboost) (1.7.3)\n",
      "Note: you may need to restart the kernel to use updated packages.\n"
     ]
    }
   ],
   "source": [
    "%pip install xgboost"
   ]
  },
  {
   "cell_type": "code",
   "execution_count": 89,
   "id": "f87dbd48",
   "metadata": {},
   "outputs": [],
   "source": [
    "import xgboost as xgb"
   ]
  },
  {
   "cell_type": "markdown",
   "id": "54345999",
   "metadata": {},
   "source": [
    "We will now remove the target variable from our dataset"
   ]
  },
  {
   "cell_type": "code",
   "execution_count": 90,
   "id": "7ec8a99e",
   "metadata": {},
   "outputs": [],
   "source": [
    "x= df.drop('high_risk_applicant',axis=1)"
   ]
  },
  {
   "cell_type": "code",
   "execution_count": 91,
   "id": "a2a8616a",
   "metadata": {},
   "outputs": [
    {
     "data": {
      "text/plain": [
       "(1000, 50)"
      ]
     },
     "execution_count": 91,
     "metadata": {},
     "output_type": "execute_result"
    }
   ],
   "source": [
    "x.shape"
   ]
  },
  {
   "cell_type": "code",
   "execution_count": 92,
   "id": "dbb1c947",
   "metadata": {},
   "outputs": [
    {
     "data": {
      "text/plain": [
       "(1000,)"
      ]
     },
     "execution_count": 92,
     "metadata": {},
     "output_type": "execute_result"
    }
   ],
   "source": [
    "y=df['high_risk_applicant']\n",
    "y.shape"
   ]
  },
  {
   "cell_type": "markdown",
   "id": "374af5e8",
   "metadata": {},
   "source": [
    "Splitting data into train test split"
   ]
  },
  {
   "cell_type": "code",
   "execution_count": 93,
   "id": "889292b2",
   "metadata": {},
   "outputs": [],
   "source": [
    "x_train, x_test, y_train, y_test = train_test_split(x,y,test_size = 0.3, random_state = 52, stratify =y) "
   ]
  },
  {
   "cell_type": "markdown",
   "id": "35230d42",
   "metadata": {},
   "source": [
    "# Feature Scaling"
   ]
  },
  {
   "cell_type": "code",
   "execution_count": 94,
   "id": "0e68a544",
   "metadata": {},
   "outputs": [],
   "source": [
    "from sklearn.preprocessing import StandardScaler\n",
    "scaler = StandardScaler()\n",
    "x_train= scaler.fit_transform(x_train)\n",
    "x_test = scaler.transform(x_test)"
   ]
  },
  {
   "cell_type": "markdown",
   "id": "800affdf",
   "metadata": {},
   "source": [
    "# Model 1- Logistic Regression"
   ]
  },
  {
   "cell_type": "code",
   "execution_count": 95,
   "id": "3b81bda4",
   "metadata": {},
   "outputs": [
    {
     "data": {
      "text/plain": [
       "LogisticRegression()"
      ]
     },
     "execution_count": 95,
     "metadata": {},
     "output_type": "execute_result"
    }
   ],
   "source": [
    "LR = LogisticRegression()\n",
    "LR.fit(x_train,y_train)"
   ]
  },
  {
   "cell_type": "code",
   "execution_count": 96,
   "id": "5b78a6a7",
   "metadata": {},
   "outputs": [],
   "source": [
    "y_pred = LR.predict(x_test)\n",
    "y_pred_train = LR.predict(x_train)"
   ]
  },
  {
   "cell_type": "markdown",
   "id": "f95508b3",
   "metadata": {},
   "source": [
    "#### We will write a function to display the model metrics.\n",
    "\n",
    "1.This function will display the Train score,test score, Classification Report and the confusion matrix\n",
    "2.This will help to evaluate teh perfomance of our model\n",
    "3.We are writing this function so that we dont have to write it over and over again when training other models."
   ]
  },
  {
   "cell_type": "code",
   "execution_count": 97,
   "id": "97c8a4e2",
   "metadata": {},
   "outputs": [],
   "source": [
    "def model_metrics(model,X_train,y_train,y_test,y_pred,y_pred_train):\n",
    "    print(f'Train Score :{model.score(X_train,y_train)}')\n",
    "    print(f'Test score :{accuracy_score(y_test,y_pred)}')\n",
    "    print(f'precision_score: {precision_score(y_test,y_pred)}')\n",
    "    print(f'recall_score: {recall_score(y_test,y_pred)}')\n",
    "  \n",
    "    print('Classification report for Training')\n",
    "    print(classification_report(y_train,y_pred_train))\n",
    "    print('Classification report for Testing')\n",
    "    print(classification_report(y_test,y_pred))\n",
    "    conf_matrix = confusion_matrix(y_test,y_pred)\n",
    "    print()\n",
    "\n",
    "  \n",
    "    heat_map=sns.heatmap(conf_matrix,annot=True,cmap='Pastel1',fmt='d')\n",
    "    heat_map.set_xlabel('\\n Predicted Values')\n",
    "    heat_map.set_ylabel('Actual values')\n",
    "    heat_map.set_title('Confusion Matrix')\n",
    "   \n",
    "    heat_map.xaxis.set_ticklabels(['0','1'])\n",
    "    heat_map.yaxis.set_ticklabels(['0','1']);"
   ]
  },
  {
   "cell_type": "code",
   "execution_count": 98,
   "id": "5fb553c2",
   "metadata": {},
   "outputs": [
    {
     "name": "stdout",
     "output_type": "stream",
     "text": [
      "Train Score :0.7685714285714286\n",
      "Test score :0.71\n",
      "precision_score: 0.5263157894736842\n",
      "recall_score: 0.3333333333333333\n",
      "Classification report for Training\n",
      "              precision    recall  f1-score   support\n",
      "\n",
      "           0       0.79      0.91      0.85       490\n",
      "           1       0.68      0.44      0.53       210\n",
      "\n",
      "    accuracy                           0.77       700\n",
      "   macro avg       0.73      0.67      0.69       700\n",
      "weighted avg       0.76      0.77      0.75       700\n",
      "\n",
      "Classification report for Testing\n",
      "              precision    recall  f1-score   support\n",
      "\n",
      "           0       0.75      0.87      0.81       210\n",
      "           1       0.53      0.33      0.41        90\n",
      "\n",
      "    accuracy                           0.71       300\n",
      "   macro avg       0.64      0.60      0.61       300\n",
      "weighted avg       0.69      0.71      0.69       300\n",
      "\n",
      "\n"
     ]
    },
    {
     "data": {
      "image/png": "[encoded data removed]",
      "text/plain": [
       "<Figure size 432x288 with 2 Axes>"
      ]
     },
     "metadata": {
      "needs_background": "light"
     },
     "output_type": "display_data"
    }
   ],
   "source": [
    "model_metrics(LR,x_train,y_train,y_test,y_pred,y_pred_train)"
   ]
  },
  {
   "cell_type": "markdown",
   "id": "172247c5",
   "metadata": {},
   "source": [
    "# Model 2- Random Forest Classifier"
   ]
  },
  {
   "cell_type": "code",
   "execution_count": 101,
   "id": "437791f3",
   "metadata": {},
   "outputs": [
    {
     "data": {
      "text/plain": [
       "RandomForestClassifier()"
      ]
     },
     "execution_count": 101,
     "metadata": {},
     "output_type": "execute_result"
    }
   ],
   "source": [
    "rf = RandomForestClassifier()\n",
    "\n",
    "rf.fit(x_train,y_train)"
   ]
  },
  {
   "cell_type": "code",
   "execution_count": 102,
   "id": "2dc35167",
   "metadata": {},
   "outputs": [
    {
     "name": "stderr",
     "output_type": "stream",
     "text": [
      "C:\\Users\\HP\\anaconda3\\lib\\site-packages\\sklearn\\base.py:443: UserWarning: X has feature names, but RandomForestClassifier was fitted without feature names\n",
      "  warnings.warn(\n"
     ]
    }
   ],
   "source": [
    "y_pred_rf = rf.predict(X_test)\n",
    "y_pred_rf_train = rf.predict(x_train)"
   ]
  },
  {
   "cell_type": "code",
   "execution_count": 103,
   "id": "cc82baed",
   "metadata": {},
   "outputs": [
    {
     "name": "stdout",
     "output_type": "stream",
     "text": [
      "Train Score :1.0\n",
      "Test score :0.66\n",
      "precision_score: 0.4230769230769231\n",
      "recall_score: 0.36666666666666664\n",
      "Classification report for Training\n",
      "              precision    recall  f1-score   support\n",
      "\n",
      "           0       1.00      1.00      1.00       490\n",
      "           1       1.00      1.00      1.00       210\n",
      "\n",
      "    accuracy                           1.00       700\n",
      "   macro avg       1.00      1.00      1.00       700\n",
      "weighted avg       1.00      1.00      1.00       700\n",
      "\n",
      "Classification report for Testing\n",
      "              precision    recall  f1-score   support\n",
      "\n",
      "           0       0.74      0.79      0.76       210\n",
      "           1       0.42      0.37      0.39        90\n",
      "\n",
      "    accuracy                           0.66       300\n",
      "   macro avg       0.58      0.58      0.58       300\n",
      "weighted avg       0.65      0.66      0.65       300\n",
      "\n",
      "\n"
     ]
    },
    {
     "data": {
      "image/png": "[encoded data removed]",
      "text/plain": [
       "<Figure size 432x288 with 2 Axes>"
      ]
     },
     "metadata": {
      "needs_background": "light"
     },
     "output_type": "display_data"
    }
   ],
   "source": [
    "model_metrics(rf,x_train,y_train,y_test,y_pred_rf,y_pred_rf_train)"
   ]
  },
  {
   "cell_type": "code",
   "execution_count": null,
   "id": "04a3ba93",
   "metadata": {},
   "outputs": [],
   "source": []
  }
 ],
 "metadata": {
  "kernelspec": {
   "display_name": "Python 3 (ipykernel)",
   "language": "python",
   "name": "python3"
  },
  "language_info": {
   "codemirror_mode": {
    "name": "ipython",
    "version": 3
   },
   "file_extension": ".py",
   "mimetype": "text/x-python",
   "name": "python",
   "nbconvert_exporter": "python",
   "pygments_lexer": "ipython3",
   "version": "3.9.12"
  }
 },
 "nbformat": 4,
 "nbformat_minor": 5
}
